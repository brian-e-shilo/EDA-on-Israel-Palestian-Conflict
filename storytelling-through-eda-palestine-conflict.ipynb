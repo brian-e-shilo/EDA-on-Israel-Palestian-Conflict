{
 "cells": [
  {
   "cell_type": "markdown",
   "id": "short-frequency",
   "metadata": {
    "papermill": {
     "duration": 0.023469,
     "end_time": "2021-06-08T08:57:13.439576",
     "exception": false,
     "start_time": "2021-06-08T08:57:13.416107",
     "status": "completed"
    },
    "tags": []
   },
   "source": [
    "\n",
    "# \"The death of one man is a TRAGEDY, The death of millions is a STATISTIC.\" –                    Josef Stalin\n"
   ]
  },
  {
   "cell_type": "markdown",
   "id": "literary-associate",
   "metadata": {
    "papermill": {
     "duration": 0.022127,
     "end_time": "2021-06-08T08:57:13.484225",
     "exception": false,
     "start_time": "2021-06-08T08:57:13.462098",
     "status": "completed"
    },
    "tags": []
   },
   "source": [
    "![img](https://www.wrbl.com/wp-content/uploads/sites/24/2021/05/AP21147394248908.jpg?w=2560&h=1440&crop=1)\n",
    "wrbl.com"
   ]
  },
  {
   "cell_type": "code",
   "execution_count": 1,
   "id": "elegant-rider",
   "metadata": {
    "execution": {
     "iopub.execute_input": "2021-06-08T08:57:13.533392Z",
     "iopub.status.busy": "2021-06-08T08:57:13.532179Z",
     "iopub.status.idle": "2021-06-08T08:57:14.455244Z",
     "shell.execute_reply": "2021-06-08T08:57:14.454180Z",
     "shell.execute_reply.started": "2021-05-26T13:24:36.961377Z"
    },
    "papermill": {
     "duration": 0.9489,
     "end_time": "2021-06-08T08:57:14.455474",
     "exception": false,
     "start_time": "2021-06-08T08:57:13.506574",
     "status": "completed"
    },
    "tags": []
   },
   "outputs": [
    {
     "name": "stdout",
     "output_type": "stream",
     "text": [
      "/kaggle/input/palestine-body-count/Palestine Body Count.csv\n"
     ]
    }
   ],
   "source": [
    "import numpy as np \n",
    "import pandas as pd \n",
    "import seaborn as sns\n",
    "import matplotlib.pyplot as plt\n",
    "\n",
    "import os\n",
    "for dirname, _, filenames in os.walk('/kaggle/input'):\n",
    "    for filename in filenames:\n",
    "        print(os.path.join(dirname, filename))\n",
    "df=pd.read_csv(\"../input/palestine-body-count/Palestine Body Count.csv\")"
   ]
  },
  {
   "cell_type": "markdown",
   "id": "resistant-correlation",
   "metadata": {
    "papermill": {
     "duration": 0.02211,
     "end_time": "2021-06-08T08:57:14.501386",
     "exception": false,
     "start_time": "2021-06-08T08:57:14.479276",
     "status": "completed"
    },
    "tags": []
   },
   "source": [
    "# Descriptive Analysis And Preprocessing"
   ]
  },
  {
   "cell_type": "code",
   "execution_count": 2,
   "id": "alive-brown",
   "metadata": {
    "collapsed": true,
    "execution": {
     "iopub.execute_input": "2021-06-08T08:57:14.562042Z",
     "iopub.status.busy": "2021-06-08T08:57:14.561149Z",
     "iopub.status.idle": "2021-06-08T08:57:14.587835Z",
     "shell.execute_reply": "2021-06-08T08:57:14.587182Z",
     "shell.execute_reply.started": "2021-05-26T13:24:37.835742Z"
    },
    "jupyter": {
     "outputs_hidden": true,
     "source_hidden": true
    },
    "papermill": {
     "duration": 0.063385,
     "end_time": "2021-06-08T08:57:14.587973",
     "exception": false,
     "start_time": "2021-06-08T08:57:14.524588",
     "status": "completed"
    },
    "tags": []
   },
   "outputs": [
    {
     "data": {
      "text/html": [
       "<div>\n",
       "<style scoped>\n",
       "    .dataframe tbody tr th:only-of-type {\n",
       "        vertical-align: middle;\n",
       "    }\n",
       "\n",
       "    .dataframe tbody tr th {\n",
       "        vertical-align: top;\n",
       "    }\n",
       "\n",
       "    .dataframe thead th {\n",
       "        text-align: right;\n",
       "    }\n",
       "</style>\n",
       "<table border=\"1\" class=\"dataframe\">\n",
       "  <thead>\n",
       "    <tr style=\"text-align: right;\">\n",
       "      <th></th>\n",
       "      <th>Year</th>\n",
       "      <th>Month</th>\n",
       "      <th>Palestinians Injuries</th>\n",
       "      <th>Israelis Injuries</th>\n",
       "      <th>Palestinians Killed</th>\n",
       "      <th>Israelis Killed</th>\n",
       "    </tr>\n",
       "  </thead>\n",
       "  <tbody>\n",
       "    <tr>\n",
       "      <th>0</th>\n",
       "      <td>2000.0</td>\n",
       "      <td>DECEMBER</td>\n",
       "      <td>781</td>\n",
       "      <td>NaN</td>\n",
       "      <td>51</td>\n",
       "      <td>8</td>\n",
       "    </tr>\n",
       "    <tr>\n",
       "      <th>1</th>\n",
       "      <td>2000.0</td>\n",
       "      <td>NOVEMBER</td>\n",
       "      <td>3838</td>\n",
       "      <td>NaN</td>\n",
       "      <td>112</td>\n",
       "      <td>22</td>\n",
       "    </tr>\n",
       "    <tr>\n",
       "      <th>2</th>\n",
       "      <td>2000.0</td>\n",
       "      <td>OCTOBER</td>\n",
       "      <td>5984</td>\n",
       "      <td>NaN</td>\n",
       "      <td>104</td>\n",
       "      <td>10</td>\n",
       "    </tr>\n",
       "    <tr>\n",
       "      <th>3</th>\n",
       "      <td>2000.0</td>\n",
       "      <td>SEPTEMBER</td>\n",
       "      <td>NaN</td>\n",
       "      <td>NaN</td>\n",
       "      <td>16</td>\n",
       "      <td>1</td>\n",
       "    </tr>\n",
       "    <tr>\n",
       "      <th>4</th>\n",
       "      <td>2001.0</td>\n",
       "      <td>DECEMBER</td>\n",
       "      <td>304</td>\n",
       "      <td>NaN</td>\n",
       "      <td>67</td>\n",
       "      <td>36</td>\n",
       "    </tr>\n",
       "    <tr>\n",
       "      <th>...</th>\n",
       "      <td>...</td>\n",
       "      <td>...</td>\n",
       "      <td>...</td>\n",
       "      <td>...</td>\n",
       "      <td>...</td>\n",
       "      <td>...</td>\n",
       "    </tr>\n",
       "    <tr>\n",
       "      <th>246</th>\n",
       "      <td>2021.0</td>\n",
       "      <td>MARCH</td>\n",
       "      <td>NaN</td>\n",
       "      <td>NaN</td>\n",
       "      <td>4</td>\n",
       "      <td>0</td>\n",
       "    </tr>\n",
       "    <tr>\n",
       "      <th>247</th>\n",
       "      <td>2021.0</td>\n",
       "      <td>APRIL</td>\n",
       "      <td>NaN</td>\n",
       "      <td>NaN</td>\n",
       "      <td>1</td>\n",
       "      <td>0</td>\n",
       "    </tr>\n",
       "    <tr>\n",
       "      <th>248</th>\n",
       "      <td>2021.0</td>\n",
       "      <td>MAY</td>\n",
       "      <td>NaN</td>\n",
       "      <td>NaN</td>\n",
       "      <td>26</td>\n",
       "      <td>3</td>\n",
       "    </tr>\n",
       "    <tr>\n",
       "      <th>249</th>\n",
       "      <td>NaN</td>\n",
       "      <td>NaN</td>\n",
       "      <td>NaN</td>\n",
       "      <td>NaN</td>\n",
       "      <td>NaN</td>\n",
       "      <td>NaN</td>\n",
       "    </tr>\n",
       "    <tr>\n",
       "      <th>250</th>\n",
       "      <td>NaN</td>\n",
       "      <td>NaN</td>\n",
       "      <td>111,475</td>\n",
       "      <td>5,160</td>\n",
       "      <td>10,000</td>\n",
       "      <td>1,275</td>\n",
       "    </tr>\n",
       "  </tbody>\n",
       "</table>\n",
       "<p>251 rows × 6 columns</p>\n",
       "</div>"
      ],
      "text/plain": [
       "       Year      Month Palestinians Injuries Israelis Injuries  \\\n",
       "0    2000.0   DECEMBER                   781               NaN   \n",
       "1    2000.0   NOVEMBER                  3838               NaN   \n",
       "2    2000.0    OCTOBER                  5984               NaN   \n",
       "3    2000.0  SEPTEMBER                   NaN               NaN   \n",
       "4    2001.0   DECEMBER                   304               NaN   \n",
       "..      ...        ...                   ...               ...   \n",
       "246  2021.0      MARCH                   NaN               NaN   \n",
       "247  2021.0      APRIL                   NaN               NaN   \n",
       "248  2021.0        MAY                   NaN               NaN   \n",
       "249     NaN        NaN                   NaN               NaN   \n",
       "250     NaN        NaN               111,475             5,160   \n",
       "\n",
       "    Palestinians Killed Israelis Killed  \n",
       "0                    51               8  \n",
       "1                   112              22  \n",
       "2                   104              10  \n",
       "3                    16               1  \n",
       "4                    67              36  \n",
       "..                  ...             ...  \n",
       "246                   4               0  \n",
       "247                   1               0  \n",
       "248                  26               3  \n",
       "249                 NaN             NaN  \n",
       "250              10,000           1,275  \n",
       "\n",
       "[251 rows x 6 columns]"
      ]
     },
     "execution_count": 2,
     "metadata": {},
     "output_type": "execute_result"
    }
   ],
   "source": [
    "df"
   ]
  },
  {
   "cell_type": "code",
   "execution_count": 3,
   "id": "soviet-functionality",
   "metadata": {
    "execution": {
     "iopub.execute_input": "2021-06-08T08:57:14.641143Z",
     "iopub.status.busy": "2021-06-08T08:57:14.640500Z",
     "iopub.status.idle": "2021-06-08T08:57:14.642973Z",
     "shell.execute_reply": "2021-06-08T08:57:14.643757Z",
     "shell.execute_reply.started": "2021-05-26T13:24:37.871442Z"
    },
    "jupyter": {
     "source_hidden": true
    },
    "papermill": {
     "duration": 0.03148,
     "end_time": "2021-06-08T08:57:14.643965",
     "exception": false,
     "start_time": "2021-06-08T08:57:14.612485",
     "status": "completed"
    },
    "tags": []
   },
   "outputs": [],
   "source": [
    "df=df.iloc[0:249]"
   ]
  },
  {
   "cell_type": "code",
   "execution_count": 4,
   "id": "electronic-gender",
   "metadata": {
    "collapsed": true,
    "execution": {
     "iopub.execute_input": "2021-06-08T08:57:14.710614Z",
     "iopub.status.busy": "2021-06-08T08:57:14.709917Z",
     "iopub.status.idle": "2021-06-08T08:57:14.713981Z",
     "shell.execute_reply": "2021-06-08T08:57:14.713507Z",
     "shell.execute_reply.started": "2021-05-26T13:24:37.87816Z"
    },
    "jupyter": {
     "outputs_hidden": true,
     "source_hidden": true
    },
    "papermill": {
     "duration": 0.046872,
     "end_time": "2021-06-08T08:57:14.714123",
     "exception": false,
     "start_time": "2021-06-08T08:57:14.667251",
     "status": "completed"
    },
    "tags": []
   },
   "outputs": [
    {
     "name": "stdout",
     "output_type": "stream",
     "text": [
      "<class 'pandas.core.frame.DataFrame'>\n",
      "RangeIndex: 249 entries, 0 to 248\n",
      "Data columns (total 6 columns):\n",
      " #   Column                 Non-Null Count  Dtype  \n",
      "---  ------                 --------------  -----  \n",
      " 0   Year                   249 non-null    float64\n",
      " 1   Month                  249 non-null    object \n",
      " 2   Palestinians Injuries  195 non-null    object \n",
      " 3   Israelis Injuries      132 non-null    object \n",
      " 4   Palestinians Killed    249 non-null    object \n",
      " 5   Israelis Killed        249 non-null    object \n",
      "dtypes: float64(1), object(5)\n",
      "memory usage: 11.8+ KB\n"
     ]
    }
   ],
   "source": [
    "df.info()"
   ]
  },
  {
   "cell_type": "code",
   "execution_count": 5,
   "id": "duplicate-scanner",
   "metadata": {
    "collapsed": true,
    "execution": {
     "iopub.execute_input": "2021-06-08T08:57:14.772452Z",
     "iopub.status.busy": "2021-06-08T08:57:14.771653Z",
     "iopub.status.idle": "2021-06-08T08:57:14.784798Z",
     "shell.execute_reply": "2021-06-08T08:57:14.784181Z",
     "shell.execute_reply.started": "2021-05-26T13:24:37.905367Z"
    },
    "jupyter": {
     "outputs_hidden": true,
     "source_hidden": true
    },
    "papermill": {
     "duration": 0.047294,
     "end_time": "2021-06-08T08:57:14.784931",
     "exception": false,
     "start_time": "2021-06-08T08:57:14.737637",
     "status": "completed"
    },
    "tags": []
   },
   "outputs": [
    {
     "data": {
      "text/html": [
       "<div>\n",
       "<style scoped>\n",
       "    .dataframe tbody tr th:only-of-type {\n",
       "        vertical-align: middle;\n",
       "    }\n",
       "\n",
       "    .dataframe tbody tr th {\n",
       "        vertical-align: top;\n",
       "    }\n",
       "\n",
       "    .dataframe thead th {\n",
       "        text-align: right;\n",
       "    }\n",
       "</style>\n",
       "<table border=\"1\" class=\"dataframe\">\n",
       "  <thead>\n",
       "    <tr style=\"text-align: right;\">\n",
       "      <th></th>\n",
       "      <th>Year</th>\n",
       "    </tr>\n",
       "  </thead>\n",
       "  <tbody>\n",
       "    <tr>\n",
       "      <th>count</th>\n",
       "      <td>249.000000</td>\n",
       "    </tr>\n",
       "    <tr>\n",
       "      <th>mean</th>\n",
       "      <td>2010.542169</td>\n",
       "    </tr>\n",
       "    <tr>\n",
       "      <th>std</th>\n",
       "      <td>6.014702</td>\n",
       "    </tr>\n",
       "    <tr>\n",
       "      <th>min</th>\n",
       "      <td>2000.000000</td>\n",
       "    </tr>\n",
       "    <tr>\n",
       "      <th>25%</th>\n",
       "      <td>2005.000000</td>\n",
       "    </tr>\n",
       "    <tr>\n",
       "      <th>50%</th>\n",
       "      <td>2011.000000</td>\n",
       "    </tr>\n",
       "    <tr>\n",
       "      <th>75%</th>\n",
       "      <td>2016.000000</td>\n",
       "    </tr>\n",
       "    <tr>\n",
       "      <th>max</th>\n",
       "      <td>2021.000000</td>\n",
       "    </tr>\n",
       "  </tbody>\n",
       "</table>\n",
       "</div>"
      ],
      "text/plain": [
       "              Year\n",
       "count   249.000000\n",
       "mean   2010.542169\n",
       "std       6.014702\n",
       "min    2000.000000\n",
       "25%    2005.000000\n",
       "50%    2011.000000\n",
       "75%    2016.000000\n",
       "max    2021.000000"
      ]
     },
     "execution_count": 5,
     "metadata": {},
     "output_type": "execute_result"
    }
   ],
   "source": [
    "df.describe()"
   ]
  },
  {
   "cell_type": "code",
   "execution_count": 6,
   "id": "eastern-titanium",
   "metadata": {
    "collapsed": true,
    "execution": {
     "iopub.execute_input": "2021-06-08T08:57:14.852774Z",
     "iopub.status.busy": "2021-06-08T08:57:14.851792Z",
     "iopub.status.idle": "2021-06-08T08:57:14.855480Z",
     "shell.execute_reply": "2021-06-08T08:57:14.856257Z",
     "shell.execute_reply.started": "2021-05-26T13:24:37.924641Z"
    },
    "jupyter": {
     "outputs_hidden": true,
     "source_hidden": true
    },
    "papermill": {
     "duration": 0.046649,
     "end_time": "2021-06-08T08:57:14.856501",
     "exception": false,
     "start_time": "2021-06-08T08:57:14.809852",
     "status": "completed"
    },
    "tags": []
   },
   "outputs": [
    {
     "name": "stdout",
     "output_type": "stream",
     "text": [
      "<class 'pandas.core.frame.DataFrame'>\n",
      "RangeIndex: 249 entries, 0 to 248\n",
      "Data columns (total 6 columns):\n",
      " #   Column                 Non-Null Count  Dtype  \n",
      "---  ------                 --------------  -----  \n",
      " 0   Year                   249 non-null    float64\n",
      " 1   Month                  249 non-null    object \n",
      " 2   Palestinians Injuries  195 non-null    object \n",
      " 3   Israelis Injuries      132 non-null    object \n",
      " 4   Palestinians Killed    249 non-null    object \n",
      " 5   Israelis Killed        249 non-null    object \n",
      "dtypes: float64(1), object(5)\n",
      "memory usage: 11.8+ KB\n"
     ]
    }
   ],
   "source": [
    "df.info()"
   ]
  },
  {
   "cell_type": "code",
   "execution_count": 7,
   "id": "crazy-digest",
   "metadata": {
    "collapsed": true,
    "execution": {
     "iopub.execute_input": "2021-06-08T08:57:14.934530Z",
     "iopub.status.busy": "2021-06-08T08:57:14.933291Z",
     "iopub.status.idle": "2021-06-08T08:57:14.942613Z",
     "shell.execute_reply": "2021-06-08T08:57:14.941965Z",
     "shell.execute_reply.started": "2021-05-26T13:24:37.940575Z"
    },
    "jupyter": {
     "outputs_hidden": true,
     "source_hidden": true
    },
    "papermill": {
     "duration": 0.054058,
     "end_time": "2021-06-08T08:57:14.942750",
     "exception": false,
     "start_time": "2021-06-08T08:57:14.888692",
     "status": "completed"
    },
    "tags": []
   },
   "outputs": [
    {
     "name": "stderr",
     "output_type": "stream",
     "text": [
      "/opt/conda/lib/python3.7/site-packages/pandas/core/frame.py:4468: SettingWithCopyWarning: \n",
      "A value is trying to be set on a copy of a slice from a DataFrame\n",
      "\n",
      "See the caveats in the documentation: https://pandas.pydata.org/pandas-docs/stable/user_guide/indexing.html#returning-a-view-versus-a-copy\n",
      "  downcast=downcast,\n"
     ]
    }
   ],
   "source": [
    "df.fillna(value=0,inplace=True)"
   ]
  },
  {
   "cell_type": "code",
   "execution_count": 8,
   "id": "individual-carbon",
   "metadata": {
    "collapsed": true,
    "execution": {
     "iopub.execute_input": "2021-06-08T08:57:14.999682Z",
     "iopub.status.busy": "2021-06-08T08:57:14.998926Z",
     "iopub.status.idle": "2021-06-08T08:57:15.011234Z",
     "shell.execute_reply": "2021-06-08T08:57:15.010436Z",
     "shell.execute_reply.started": "2021-05-26T13:24:37.961413Z"
    },
    "jupyter": {
     "outputs_hidden": true,
     "source_hidden": true
    },
    "papermill": {
     "duration": 0.043452,
     "end_time": "2021-06-08T08:57:15.011423",
     "exception": false,
     "start_time": "2021-06-08T08:57:14.967971",
     "status": "completed"
    },
    "tags": []
   },
   "outputs": [
    {
     "name": "stderr",
     "output_type": "stream",
     "text": [
      "/opt/conda/lib/python3.7/site-packages/pandas/core/indexing.py:1637: SettingWithCopyWarning: \n",
      "A value is trying to be set on a copy of a slice from a DataFrame\n",
      "\n",
      "See the caveats in the documentation: https://pandas.pydata.org/pandas-docs/stable/user_guide/indexing.html#returning-a-view-versus-a-copy\n",
      "  self._setitem_single_block(indexer, value, name)\n",
      "/opt/conda/lib/python3.7/site-packages/pandas/core/indexing.py:692: SettingWithCopyWarning: \n",
      "A value is trying to be set on a copy of a slice from a DataFrame\n",
      "\n",
      "See the caveats in the documentation: https://pandas.pydata.org/pandas-docs/stable/user_guide/indexing.html#returning-a-view-versus-a-copy\n",
      "  iloc._setitem_with_indexer(indexer, value, self.name)\n"
     ]
    }
   ],
   "source": [
    "df[\"Palestinians Injuries\"].iloc[165]=0\n",
    "df[\"Israelis Injuries\"].iloc[165]=0\n",
    "df[\"Palestinians Injuries\"].iloc[203]=0\n",
    "df[\"Israelis Injuries\"].iloc[203]=0\n",
    "df[\"Month\"].iloc[203]=\"MAY\"\n",
    "df[\"Month\"].iloc[227]=\"MAY\"\n",
    "df[\"Month\"].iloc[239]=\"MAY\""
   ]
  },
  {
   "cell_type": "code",
   "execution_count": 9,
   "id": "suited-screen",
   "metadata": {
    "collapsed": true,
    "execution": {
     "iopub.execute_input": "2021-06-08T08:57:15.075488Z",
     "iopub.status.busy": "2021-06-08T08:57:15.074724Z",
     "iopub.status.idle": "2021-06-08T08:57:15.079504Z",
     "shell.execute_reply": "2021-06-08T08:57:15.078939Z",
     "shell.execute_reply.started": "2021-05-26T13:24:37.978119Z"
    },
    "jupyter": {
     "outputs_hidden": true,
     "source_hidden": true
    },
    "papermill": {
     "duration": 0.042213,
     "end_time": "2021-06-08T08:57:15.079646",
     "exception": false,
     "start_time": "2021-06-08T08:57:15.037433",
     "status": "completed"
    },
    "tags": []
   },
   "outputs": [
    {
     "name": "stderr",
     "output_type": "stream",
     "text": [
      "/opt/conda/lib/python3.7/site-packages/ipykernel_launcher.py:1: SettingWithCopyWarning: \n",
      "A value is trying to be set on a copy of a slice from a DataFrame.\n",
      "Try using .loc[row_indexer,col_indexer] = value instead\n",
      "\n",
      "See the caveats in the documentation: https://pandas.pydata.org/pandas-docs/stable/user_guide/indexing.html#returning-a-view-versus-a-copy\n",
      "  \"\"\"Entry point for launching an IPython kernel.\n",
      "/opt/conda/lib/python3.7/site-packages/ipykernel_launcher.py:2: SettingWithCopyWarning: \n",
      "A value is trying to be set on a copy of a slice from a DataFrame.\n",
      "Try using .loc[row_indexer,col_indexer] = value instead\n",
      "\n",
      "See the caveats in the documentation: https://pandas.pydata.org/pandas-docs/stable/user_guide/indexing.html#returning-a-view-versus-a-copy\n",
      "  \n",
      "/opt/conda/lib/python3.7/site-packages/ipykernel_launcher.py:3: SettingWithCopyWarning: \n",
      "A value is trying to be set on a copy of a slice from a DataFrame.\n",
      "Try using .loc[row_indexer,col_indexer] = value instead\n",
      "\n",
      "See the caveats in the documentation: https://pandas.pydata.org/pandas-docs/stable/user_guide/indexing.html#returning-a-view-versus-a-copy\n",
      "  This is separate from the ipykernel package so we can avoid doing imports until\n",
      "/opt/conda/lib/python3.7/site-packages/ipykernel_launcher.py:4: SettingWithCopyWarning: \n",
      "A value is trying to be set on a copy of a slice from a DataFrame.\n",
      "Try using .loc[row_indexer,col_indexer] = value instead\n",
      "\n",
      "See the caveats in the documentation: https://pandas.pydata.org/pandas-docs/stable/user_guide/indexing.html#returning-a-view-versus-a-copy\n",
      "  after removing the cwd from sys.path.\n",
      "/opt/conda/lib/python3.7/site-packages/ipykernel_launcher.py:5: SettingWithCopyWarning: \n",
      "A value is trying to be set on a copy of a slice from a DataFrame.\n",
      "Try using .loc[row_indexer,col_indexer] = value instead\n",
      "\n",
      "See the caveats in the documentation: https://pandas.pydata.org/pandas-docs/stable/user_guide/indexing.html#returning-a-view-versus-a-copy\n",
      "  \"\"\"\n"
     ]
    }
   ],
   "source": [
    "df[\"Year\"]=df[\"Year\"].apply(int)\n",
    "df[\"Palestinians Killed\"]=df[\"Palestinians Killed\"].apply(int)\n",
    "df[\"Israelis Killed\"]=df[\"Israelis Killed\"].apply(int)\n",
    "df[\"Israelis Injuries\"] = df[\"Israelis Injuries\"].apply(int)\n",
    "df[\"Palestinians Injuries\"] = df[\"Palestinians Injuries\"].apply(int)"
   ]
  },
  {
   "cell_type": "code",
   "execution_count": 10,
   "id": "useful-johnson",
   "metadata": {
    "collapsed": true,
    "execution": {
     "iopub.execute_input": "2021-06-08T08:57:15.140578Z",
     "iopub.status.busy": "2021-06-08T08:57:15.139781Z",
     "iopub.status.idle": "2021-06-08T08:57:15.163071Z",
     "shell.execute_reply": "2021-06-08T08:57:15.162328Z",
     "shell.execute_reply.started": "2021-05-26T13:24:37.989666Z"
    },
    "jupyter": {
     "outputs_hidden": true,
     "source_hidden": true
    },
    "papermill": {
     "duration": 0.055283,
     "end_time": "2021-06-08T08:57:15.163250",
     "exception": false,
     "start_time": "2021-06-08T08:57:15.107967",
     "status": "completed"
    },
    "tags": []
   },
   "outputs": [
    {
     "name": "stderr",
     "output_type": "stream",
     "text": [
      "/opt/conda/lib/python3.7/site-packages/ipykernel_launcher.py:1: SettingWithCopyWarning: \n",
      "A value is trying to be set on a copy of a slice from a DataFrame.\n",
      "Try using .loc[row_indexer,col_indexer] = value instead\n",
      "\n",
      "See the caveats in the documentation: https://pandas.pydata.org/pandas-docs/stable/user_guide/indexing.html#returning-a-view-versus-a-copy\n",
      "  \"\"\"Entry point for launching an IPython kernel.\n",
      "/opt/conda/lib/python3.7/site-packages/ipykernel_launcher.py:2: SettingWithCopyWarning: \n",
      "A value is trying to be set on a copy of a slice from a DataFrame.\n",
      "Try using .loc[row_indexer,col_indexer] = value instead\n",
      "\n",
      "See the caveats in the documentation: https://pandas.pydata.org/pandas-docs/stable/user_guide/indexing.html#returning-a-view-versus-a-copy\n",
      "  \n",
      "/opt/conda/lib/python3.7/site-packages/ipykernel_launcher.py:3: SettingWithCopyWarning: \n",
      "A value is trying to be set on a copy of a slice from a DataFrame.\n",
      "Try using .loc[row_indexer,col_indexer] = value instead\n",
      "\n",
      "See the caveats in the documentation: https://pandas.pydata.org/pandas-docs/stable/user_guide/indexing.html#returning-a-view-versus-a-copy\n",
      "  This is separate from the ipykernel package so we can avoid doing imports until\n"
     ]
    }
   ],
   "source": [
    "df[\"Palestinian Casualties\"]=(df[\"Palestinians Killed\"]+df[\"Palestinians Injuries\"])\n",
    "df[\"Israelis Casualties\"]=(df[\"Israelis Killed\"]+df[\"Israelis Injuries\"])\n",
    "df[\"Total Casualties\"]=(df[\"Palestinian Casualties\"]+df[\"Israelis Casualties\"])\n"
   ]
  },
  {
   "cell_type": "code",
   "execution_count": 11,
   "id": "enclosed-census",
   "metadata": {
    "collapsed": true,
    "execution": {
     "iopub.execute_input": "2021-06-08T08:57:15.234454Z",
     "iopub.status.busy": "2021-06-08T08:57:15.233813Z",
     "iopub.status.idle": "2021-06-08T08:57:15.237007Z",
     "shell.execute_reply": "2021-06-08T08:57:15.237509Z",
     "shell.execute_reply.started": "2021-05-26T13:24:38.017783Z"
    },
    "jupyter": {
     "outputs_hidden": true,
     "source_hidden": true
    },
    "papermill": {
     "duration": 0.047418,
     "end_time": "2021-06-08T08:57:15.237694",
     "exception": false,
     "start_time": "2021-06-08T08:57:15.190276",
     "status": "completed"
    },
    "tags": []
   },
   "outputs": [
    {
     "data": {
      "text/html": [
       "<div>\n",
       "<style scoped>\n",
       "    .dataframe tbody tr th:only-of-type {\n",
       "        vertical-align: middle;\n",
       "    }\n",
       "\n",
       "    .dataframe tbody tr th {\n",
       "        vertical-align: top;\n",
       "    }\n",
       "\n",
       "    .dataframe thead th {\n",
       "        text-align: right;\n",
       "    }\n",
       "</style>\n",
       "<table border=\"1\" class=\"dataframe\">\n",
       "  <thead>\n",
       "    <tr style=\"text-align: right;\">\n",
       "      <th></th>\n",
       "      <th>Year</th>\n",
       "      <th>Month</th>\n",
       "      <th>Palestinians Injuries</th>\n",
       "      <th>Israelis Injuries</th>\n",
       "      <th>Palestinians Killed</th>\n",
       "      <th>Israelis Killed</th>\n",
       "      <th>Palestinian Casualties</th>\n",
       "      <th>Israelis Casualties</th>\n",
       "      <th>Total Casualties</th>\n",
       "    </tr>\n",
       "  </thead>\n",
       "  <tbody>\n",
       "    <tr>\n",
       "      <th>0</th>\n",
       "      <td>2000</td>\n",
       "      <td>DECEMBER</td>\n",
       "      <td>781</td>\n",
       "      <td>0</td>\n",
       "      <td>51</td>\n",
       "      <td>8</td>\n",
       "      <td>832</td>\n",
       "      <td>8</td>\n",
       "      <td>840</td>\n",
       "    </tr>\n",
       "    <tr>\n",
       "      <th>1</th>\n",
       "      <td>2000</td>\n",
       "      <td>NOVEMBER</td>\n",
       "      <td>3838</td>\n",
       "      <td>0</td>\n",
       "      <td>112</td>\n",
       "      <td>22</td>\n",
       "      <td>3950</td>\n",
       "      <td>22</td>\n",
       "      <td>3972</td>\n",
       "    </tr>\n",
       "    <tr>\n",
       "      <th>2</th>\n",
       "      <td>2000</td>\n",
       "      <td>OCTOBER</td>\n",
       "      <td>5984</td>\n",
       "      <td>0</td>\n",
       "      <td>104</td>\n",
       "      <td>10</td>\n",
       "      <td>6088</td>\n",
       "      <td>10</td>\n",
       "      <td>6098</td>\n",
       "    </tr>\n",
       "    <tr>\n",
       "      <th>3</th>\n",
       "      <td>2000</td>\n",
       "      <td>SEPTEMBER</td>\n",
       "      <td>0</td>\n",
       "      <td>0</td>\n",
       "      <td>16</td>\n",
       "      <td>1</td>\n",
       "      <td>16</td>\n",
       "      <td>1</td>\n",
       "      <td>17</td>\n",
       "    </tr>\n",
       "    <tr>\n",
       "      <th>4</th>\n",
       "      <td>2001</td>\n",
       "      <td>DECEMBER</td>\n",
       "      <td>304</td>\n",
       "      <td>0</td>\n",
       "      <td>67</td>\n",
       "      <td>36</td>\n",
       "      <td>371</td>\n",
       "      <td>36</td>\n",
       "      <td>407</td>\n",
       "    </tr>\n",
       "    <tr>\n",
       "      <th>...</th>\n",
       "      <td>...</td>\n",
       "      <td>...</td>\n",
       "      <td>...</td>\n",
       "      <td>...</td>\n",
       "      <td>...</td>\n",
       "      <td>...</td>\n",
       "      <td>...</td>\n",
       "      <td>...</td>\n",
       "      <td>...</td>\n",
       "    </tr>\n",
       "    <tr>\n",
       "      <th>244</th>\n",
       "      <td>2021</td>\n",
       "      <td>JANUARY</td>\n",
       "      <td>0</td>\n",
       "      <td>0</td>\n",
       "      <td>4</td>\n",
       "      <td>0</td>\n",
       "      <td>4</td>\n",
       "      <td>0</td>\n",
       "      <td>4</td>\n",
       "    </tr>\n",
       "    <tr>\n",
       "      <th>245</th>\n",
       "      <td>2021</td>\n",
       "      <td>FEBRUARY</td>\n",
       "      <td>0</td>\n",
       "      <td>0</td>\n",
       "      <td>1</td>\n",
       "      <td>0</td>\n",
       "      <td>1</td>\n",
       "      <td>0</td>\n",
       "      <td>1</td>\n",
       "    </tr>\n",
       "    <tr>\n",
       "      <th>246</th>\n",
       "      <td>2021</td>\n",
       "      <td>MARCH</td>\n",
       "      <td>0</td>\n",
       "      <td>0</td>\n",
       "      <td>4</td>\n",
       "      <td>0</td>\n",
       "      <td>4</td>\n",
       "      <td>0</td>\n",
       "      <td>4</td>\n",
       "    </tr>\n",
       "    <tr>\n",
       "      <th>247</th>\n",
       "      <td>2021</td>\n",
       "      <td>APRIL</td>\n",
       "      <td>0</td>\n",
       "      <td>0</td>\n",
       "      <td>1</td>\n",
       "      <td>0</td>\n",
       "      <td>1</td>\n",
       "      <td>0</td>\n",
       "      <td>1</td>\n",
       "    </tr>\n",
       "    <tr>\n",
       "      <th>248</th>\n",
       "      <td>2021</td>\n",
       "      <td>MAY</td>\n",
       "      <td>0</td>\n",
       "      <td>0</td>\n",
       "      <td>26</td>\n",
       "      <td>3</td>\n",
       "      <td>26</td>\n",
       "      <td>3</td>\n",
       "      <td>29</td>\n",
       "    </tr>\n",
       "  </tbody>\n",
       "</table>\n",
       "<p>249 rows × 9 columns</p>\n",
       "</div>"
      ],
      "text/plain": [
       "     Year      Month  Palestinians Injuries  Israelis Injuries  \\\n",
       "0    2000   DECEMBER                    781                  0   \n",
       "1    2000   NOVEMBER                   3838                  0   \n",
       "2    2000    OCTOBER                   5984                  0   \n",
       "3    2000  SEPTEMBER                      0                  0   \n",
       "4    2001   DECEMBER                    304                  0   \n",
       "..    ...        ...                    ...                ...   \n",
       "244  2021    JANUARY                      0                  0   \n",
       "245  2021   FEBRUARY                      0                  0   \n",
       "246  2021      MARCH                      0                  0   \n",
       "247  2021      APRIL                      0                  0   \n",
       "248  2021        MAY                      0                  0   \n",
       "\n",
       "     Palestinians Killed  Israelis Killed  Palestinian Casualties  \\\n",
       "0                     51                8                     832   \n",
       "1                    112               22                    3950   \n",
       "2                    104               10                    6088   \n",
       "3                     16                1                      16   \n",
       "4                     67               36                     371   \n",
       "..                   ...              ...                     ...   \n",
       "244                    4                0                       4   \n",
       "245                    1                0                       1   \n",
       "246                    4                0                       4   \n",
       "247                    1                0                       1   \n",
       "248                   26                3                      26   \n",
       "\n",
       "     Israelis Casualties  Total Casualties  \n",
       "0                      8               840  \n",
       "1                     22              3972  \n",
       "2                     10              6098  \n",
       "3                      1                17  \n",
       "4                     36               407  \n",
       "..                   ...               ...  \n",
       "244                    0                 4  \n",
       "245                    0                 1  \n",
       "246                    0                 4  \n",
       "247                    0                 1  \n",
       "248                    3                29  \n",
       "\n",
       "[249 rows x 9 columns]"
      ]
     },
     "execution_count": 11,
     "metadata": {},
     "output_type": "execute_result"
    }
   ],
   "source": [
    "df"
   ]
  },
  {
   "cell_type": "markdown",
   "id": "portuguese-plumbing",
   "metadata": {
    "papermill": {
     "duration": 0.026429,
     "end_time": "2021-06-08T08:57:15.290510",
     "exception": false,
     "start_time": "2021-06-08T08:57:15.264081",
     "status": "completed"
    },
    "tags": []
   },
   "source": [
    "# Year On Year Analysis Of Deaths And Injuries"
   ]
  },
  {
   "cell_type": "code",
   "execution_count": 12,
   "id": "phantom-overview",
   "metadata": {
    "execution": {
     "iopub.execute_input": "2021-06-08T08:57:15.346476Z",
     "iopub.status.busy": "2021-06-08T08:57:15.345802Z",
     "iopub.status.idle": "2021-06-08T08:57:16.986192Z",
     "shell.execute_reply": "2021-06-08T08:57:16.986672Z",
     "shell.execute_reply.started": "2021-05-26T13:24:38.034807Z"
    },
    "jupyter": {
     "source_hidden": true
    },
    "papermill": {
     "duration": 1.669801,
     "end_time": "2021-06-08T08:57:16.986835",
     "exception": false,
     "start_time": "2021-06-08T08:57:15.317034",
     "status": "completed"
    },
    "tags": []
   },
   "outputs": [
    {
     "data": {
      "image/png": "[encoded data removed]",
      "text/plain": [
       "<Figure size 864x648 with 1 Axes>"
      ]
     },
     "metadata": {
      "needs_background": "light"
     },
     "output_type": "display_data"
    }
   ],
   "source": [
    "plt.figure(figsize=(12,9))\n",
    "plt.bar(df['Year'],df['Palestinians Killed'] , label = \"Palestinians Deaths\" ) \n",
    "plt.bar(df['Year'],df['Israelis Killed'] , label = \"Israeli Deaths\")\n",
    "plt.xlabel('Year')\n",
    "plt.legend()\n",
    "plt.show()"
   ]
  },
  {
   "cell_type": "code",
   "execution_count": 13,
   "id": "passing-cartoon",
   "metadata": {
    "execution": {
     "iopub.execute_input": "2021-06-08T08:57:17.045437Z",
     "iopub.status.busy": "2021-06-08T08:57:17.044772Z",
     "iopub.status.idle": "2021-06-08T08:57:18.546924Z",
     "shell.execute_reply": "2021-06-08T08:57:18.546408Z",
     "shell.execute_reply.started": "2021-05-26T13:24:39.221675Z"
    },
    "jupyter": {
     "source_hidden": true
    },
    "papermill": {
     "duration": 1.532248,
     "end_time": "2021-06-08T08:57:18.547061",
     "exception": false,
     "start_time": "2021-06-08T08:57:17.014813",
     "status": "completed"
    },
    "tags": []
   },
   "outputs": [
    {
     "data": {
      "image/png": "[encoded data removed]",
      "text/plain": [
       "<Figure size 864x648 with 1 Axes>"
      ]
     },
     "metadata": {
      "needs_background": "light"
     },
     "output_type": "display_data"
    }
   ],
   "source": [
    "plt.figure(figsize=(12,9))\n",
    "plt.bar(df['Year'],df['Palestinians Injuries'] , label = \"Palestinians Injuries\" ) \n",
    "plt.bar(df['Year'],df['Israelis Injuries'] , label = \"Israeli Injuries\")\n",
    "plt.xlabel('Year')\n",
    "plt.legend()\n",
    "plt.show()"
   ]
  },
  {
   "cell_type": "code",
   "execution_count": 14,
   "id": "cathedral-waterproof",
   "metadata": {
    "execution": {
     "iopub.execute_input": "2021-06-08T08:57:18.636588Z",
     "iopub.status.busy": "2021-06-08T08:57:18.635912Z",
     "iopub.status.idle": "2021-06-08T08:57:19.448214Z",
     "shell.execute_reply": "2021-06-08T08:57:19.447693Z",
     "shell.execute_reply.started": "2021-05-26T13:24:40.252036Z"
    },
    "jupyter": {
     "source_hidden": true
    },
    "papermill": {
     "duration": 0.872848,
     "end_time": "2021-06-08T08:57:19.448370",
     "exception": false,
     "start_time": "2021-06-08T08:57:18.575522",
     "status": "completed"
    },
    "tags": []
   },
   "outputs": [
    {
     "data": {
      "image/png": "[encoded data removed]",
      "text/plain": [
       "<Figure size 864x648 with 1 Axes>"
      ]
     },
     "metadata": {
      "needs_background": "light"
     },
     "output_type": "display_data"
    }
   ],
   "source": [
    "plt.figure(figsize=(12,9))\n",
    "plt.bar(df['Year'],df['Total Casualties'] , label = \"Total Casualties Yearly\" ) \n",
    "plt.xlabel('Year')\n",
    "plt.legend()\n",
    "plt.show()"
   ]
  },
  {
   "cell_type": "markdown",
   "id": "potential-edition",
   "metadata": {
    "papermill": {
     "duration": 0.028378,
     "end_time": "2021-06-08T08:57:19.505489",
     "exception": false,
     "start_time": "2021-06-08T08:57:19.477111",
     "status": "completed"
    },
    "tags": []
   },
   "source": [
    "## Important Inferences\n",
    "* **Year 2007**- This Year Saw The Famous **Battle Of Gaza** Between Hamas And Fatah Groups For The Control Of Gaza Strip. This Was Not A War Involving Israeli Security Agencies. The Palestinian Casualties Were Far Higher Than Israeli Ones Because It Was A War Between Two Palestinian Groups.\n",
    "* **Year 2014**- This Year Gaza Was Invaded By Israeli Soldiers. Israeli Shelling Displaced 3300 People. Moreover, Many Minor And Major Conflicts On Both Sides Led To Heavy Casualties. This Was Also The Year When Highest Israeli Casualties Were Observed."
   ]
  },
  {
   "cell_type": "markdown",
   "id": "labeled-snake",
   "metadata": {
    "papermill": {
     "duration": 0.029263,
     "end_time": "2021-06-08T08:57:19.563914",
     "exception": false,
     "start_time": "2021-06-08T08:57:19.534651",
     "status": "completed"
    },
    "tags": []
   },
   "source": [
    "# Month-Wise Analysis Of Deaths And Injuries"
   ]
  },
  {
   "cell_type": "code",
   "execution_count": 15,
   "id": "institutional-peoples",
   "metadata": {
    "collapsed": true,
    "execution": {
     "iopub.execute_input": "2021-06-08T08:57:19.647602Z",
     "iopub.status.busy": "2021-06-08T08:57:19.626221Z",
     "iopub.status.idle": "2021-06-08T08:57:21.315311Z",
     "shell.execute_reply": "2021-06-08T08:57:21.314760Z",
     "shell.execute_reply.started": "2021-05-26T13:24:40.841657Z"
    },
    "jupyter": {
     "outputs_hidden": true
    },
    "papermill": {
     "duration": 1.722946,
     "end_time": "2021-06-08T08:57:21.315453",
     "exception": false,
     "start_time": "2021-06-08T08:57:19.592507",
     "status": "completed"
    },
    "tags": []
   },
   "outputs": [
    {
     "data": {
      "image/png": "[encoded data removed]",
      "text/plain": [
       "<Figure size 1224x504 with 1 Axes>"
      ]
     },
     "metadata": {
      "needs_background": "light"
     },
     "output_type": "display_data"
    }
   ],
   "source": [
    "plt.figure(figsize=(17,7))\n",
    "plt.bar(df['Month'],df['Palestinians Killed'] , label = \"Palestinian Deaths\" ) \n",
    "plt.bar(df['Month'],df['Israelis Killed'] , label = \"Israeli Deaths\")\n",
    "plt.xlabel('Month')\n",
    "plt.legend()\n",
    "plt.show()"
   ]
  },
  {
   "cell_type": "code",
   "execution_count": 16,
   "id": "vocal-playback",
   "metadata": {
    "execution": {
     "iopub.execute_input": "2021-06-08T08:57:21.406922Z",
     "iopub.status.busy": "2021-06-08T08:57:21.400219Z",
     "iopub.status.idle": "2021-06-08T08:57:22.909950Z",
     "shell.execute_reply": "2021-06-08T08:57:22.909422Z",
     "shell.execute_reply.started": "2021-05-26T13:24:42.074033Z"
    },
    "jupyter": {
     "source_hidden": true
    },
    "papermill": {
     "duration": 1.565106,
     "end_time": "2021-06-08T08:57:22.910084",
     "exception": false,
     "start_time": "2021-06-08T08:57:21.344978",
     "status": "completed"
    },
    "tags": []
   },
   "outputs": [
    {
     "data": {
      "image/png": "[encoded data removed]",
      "text/plain": [
       "<Figure size 1224x504 with 1 Axes>"
      ]
     },
     "metadata": {
      "needs_background": "light"
     },
     "output_type": "display_data"
    }
   ],
   "source": [
    "plt.figure(figsize=(17,7))\n",
    "plt.bar(df['Month'],df['Palestinians Injuries'] , label = \"Palestinian Injuries\" ) \n",
    "plt.bar(df['Month'],df['Israelis Injuries'] , label = \"Israeli Injuries\")\n",
    "plt.xlabel('Month')\n",
    "plt.legend()\n",
    "plt.show()"
   ]
  },
  {
   "cell_type": "code",
   "execution_count": 17,
   "id": "martial-saudi",
   "metadata": {
    "execution": {
     "iopub.execute_input": "2021-06-08T08:57:23.010815Z",
     "iopub.status.busy": "2021-06-08T08:57:22.994761Z",
     "iopub.status.idle": "2021-06-08T08:57:23.986151Z",
     "shell.execute_reply": "2021-06-08T08:57:23.985479Z",
     "shell.execute_reply.started": "2021-05-26T13:24:43.140029Z"
    },
    "jupyter": {
     "source_hidden": true
    },
    "papermill": {
     "duration": 1.045104,
     "end_time": "2021-06-08T08:57:23.986318",
     "exception": false,
     "start_time": "2021-06-08T08:57:22.941214",
     "status": "completed"
    },
    "tags": []
   },
   "outputs": [
    {
     "data": {
      "image/png": "[encoded data removed]",
      "text/plain": [
       "<Figure size 1224x504 with 1 Axes>"
      ]
     },
     "metadata": {
      "needs_background": "light"
     },
     "output_type": "display_data"
    }
   ],
   "source": [
    "plt.figure(figsize=(17,7))\n",
    "plt.bar(df['Month'],df['Total Casualties'] , label = \"Total Casualties Monthly\" ) \n",
    "plt.xlabel('Month')\n",
    "plt.legend()\n",
    "plt.show()"
   ]
  },
  {
   "cell_type": "markdown",
   "id": "ordered-swift",
   "metadata": {
    "papermill": {
     "duration": 0.031658,
     "end_time": "2021-06-08T08:57:24.049746",
     "exception": false,
     "start_time": "2021-06-08T08:57:24.018088",
     "status": "completed"
    },
    "tags": []
   },
   "source": [
    "# “We must live together as brothers or perish together as fools.”\n",
    "#             ― Martin Luther King Jr"
   ]
  },
  {
   "cell_type": "code",
   "execution_count": 18,
   "id": "younger-gather",
   "metadata": {
    "execution": {
     "iopub.execute_input": "2021-06-08T08:57:24.118656Z",
     "iopub.status.busy": "2021-06-08T08:57:24.117984Z",
     "iopub.status.idle": "2021-06-08T08:57:24.122417Z",
     "shell.execute_reply": "2021-06-08T08:57:24.121871Z",
     "shell.execute_reply.started": "2021-05-26T13:24:43.875573Z"
    },
    "papermill": {
     "duration": 0.041742,
     "end_time": "2021-06-08T08:57:24.122561",
     "exception": false,
     "start_time": "2021-06-08T08:57:24.080819",
     "status": "completed"
    },
    "tags": []
   },
   "outputs": [
    {
     "data": {
      "text/plain": [
       "127910"
      ]
     },
     "execution_count": 18,
     "metadata": {},
     "output_type": "execute_result"
    }
   ],
   "source": [
    "df[\"Total Casualties\"].sum()"
   ]
  },
  {
   "cell_type": "markdown",
   "id": "successful-sixth",
   "metadata": {
    "papermill": {
     "duration": 0.031785,
     "end_time": "2021-06-08T08:57:24.186041",
     "exception": false,
     "start_time": "2021-06-08T08:57:24.154256",
     "status": "completed"
    },
    "tags": []
   },
   "source": [
    "## The **Cost Of War** Is 127910 And It's Increasing At A Compounded Rate. "
   ]
  },
  {
   "cell_type": "markdown",
   "id": "capital-fantasy",
   "metadata": {
    "papermill": {
     "duration": 0.031406,
     "end_time": "2021-06-08T08:57:24.248999",
     "exception": false,
     "start_time": "2021-06-08T08:57:24.217593",
     "status": "completed"
    },
    "tags": []
   },
   "source": [
    "That's about 1.5% Population Of Whole Israel"
   ]
  },
  {
   "cell_type": "code",
   "execution_count": 19,
   "id": "prompt-shoulder",
   "metadata": {
    "execution": {
     "iopub.execute_input": "2021-06-08T08:57:24.344843Z",
     "iopub.status.busy": "2021-06-08T08:57:24.344078Z",
     "iopub.status.idle": "2021-06-08T08:57:24.463948Z",
     "shell.execute_reply": "2021-06-08T08:57:24.463363Z",
     "shell.execute_reply.started": "2021-05-26T13:24:43.883718Z"
    },
    "jupyter": {
     "source_hidden": true
    },
    "papermill": {
     "duration": 0.183444,
     "end_time": "2021-06-08T08:57:24.464085",
     "exception": false,
     "start_time": "2021-06-08T08:57:24.280641",
     "status": "completed"
    },
    "tags": []
   },
   "outputs": [
    {
     "data": {
      "image/png": "[encoded data removed]",
      "text/plain": [
       "<Figure size 432x288 with 1 Axes>"
      ]
     },
     "metadata": {},
     "output_type": "display_data"
    }
   ],
   "source": [
    "lis1=[df[\"Israelis Casualties\"].sum(),df[\"Palestinian Casualties\"].sum()]\n",
    "my_data = lis1\n",
    "my_labels = ['Israeli','Palestinian']\n",
    "\n",
    "plt.pie(my_data,labels=my_labels,autopct='%1.1f%%',startangle=15, shadow = True,colors=['lightblue','lightgreen'])\n",
    "plt.title('SHARE OF CASUALTIES IN LAST 20 YEARS')\n",
    "plt.axis('equal')\n",
    "plt.show()"
   ]
  },
  {
   "cell_type": "markdown",
   "id": "above-huntington",
   "metadata": {
    "papermill": {
     "duration": 0.032442,
     "end_time": "2021-06-08T08:57:24.530340",
     "exception": false,
     "start_time": "2021-06-08T08:57:24.497898",
     "status": "completed"
    },
    "tags": []
   },
   "source": [
    "The Data Clearly Shows That Palestinians Have Lost Much More Due To Warfare With Israel, Infighting Within Groups And Other Conflicts. "
   ]
  },
  {
   "cell_type": "markdown",
   "id": "vertical-buffer",
   "metadata": {
    "papermill": {
     "duration": 0.032926,
     "end_time": "2021-06-08T08:57:24.596246",
     "exception": false,
     "start_time": "2021-06-08T08:57:24.563320",
     "status": "completed"
    },
    "tags": []
   },
   "source": [
    "# Countries Need To Look At MiddleEast And Try To Sort The Mess Out"
   ]
  }
 ],
 "metadata": {
  "kernelspec": {
   "display_name": "Python 3",
   "language": "python",
   "name": "python3"
  },
  "language_info": {
   "codemirror_mode": {
    "name": "ipython",
    "version": 3
   },
   "file_extension": ".py",
   "mimetype": "text/x-python",
   "name": "python",
   "nbconvert_exporter": "python",
   "pygments_lexer": "ipython3",
   "version": "3.7.10"
  },
  "papermill": {
   "default_parameters": {},
   "duration": 20.981591,
   "end_time": "2021-06-08T08:57:26.102223",
   "environment_variables": {},
   "exception": null,
   "input_path": "__notebook__.ipynb",
   "output_path": "__notebook__.ipynb",
   "parameters": {},
   "start_time": "2021-06-08T08:57:05.120632",
   "version": "2.3.3"
  }
 },
 "nbformat": 4,
 "nbformat_minor": 5
}
